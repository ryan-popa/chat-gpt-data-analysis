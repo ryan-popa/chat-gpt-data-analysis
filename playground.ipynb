{
 "cells": [
  {
   "cell_type": "code",
   "execution_count": 9,
   "metadata": {},
   "outputs": [],
   "source": [
    "import requests\n",
    "import json\n",
    "import openai\n",
    "import os\n",
    "\n",
    "from dotenv import load_dotenv\n",
    "from pathlib import Path\n",
    "\n",
    "dotenv_path = Path('secrets.env')\n",
    "load_dotenv(dotenv_path=dotenv_path)\n",
    "\n",
    "openai_api_key = os.environ.get(\"OPENAI_API_KEY\")"
   ]
  },
  {
   "cell_type": "code",
   "execution_count": 11,
   "metadata": {},
   "outputs": [
    {
     "data": {
      "text/plain": [
       "'{\"id\":\"cmpl-6N6GwlDrBaoyyGd75N6y3rSHnGqyn\",\"object\":\"text_completion\",\"created\":1670963674,\"model\":\"text-davinci-003-playground\",\"choices\":[{\"text\":\"\\\\n\\\\nimport pandas as pd\\\\n\\\\ndata = {\\\\n    \\'id\\': [1, 2, 3, 4, 5],\\\\n    \\'name\\': [\\\\\"Bob\\\\\", \\\\\"Sue\\\\\", \\\\\"John\\\\\", \\\\\"Jane\\\\\", \\\\\"Jill\\\\\"],\\\\n    \\'age\\': [20, 21, 22, 23, 24],\\\\n    \\'gender\\': [\\\\\"M\\\\\", \\\\\"F\\\\\", \\\\\"M\\\\\", \\\\\"F\\\\\", \\\\\"F\\\\\"]\\\\n}\\\\n\\\\ndf = pd.DataFrame(data)\\\\n\\\\ndf.groupby(\\'gender\\').mean()[\\'age\\'].plot.bar()\",\"index\":0,\"logprobs\":{\"tokens\":[\"\\\\n\",\"\\\\n\",\"import\",\" pand\",\"as\",\" as\",\" p\",\"d\",\"\\\\n\",\"\\\\n\",\"data\",\" =\",\" {\",\"\\\\n\",\"   \",\" \\'\",\"id\",\"\\':\",\" [\",\"1\",\",\",\" 2\",\",\",\" 3\",\",\",\" 4\",\",\",\" 5\",\"],\",\"\\\\n\",\"   \",\" \\'\",\"name\",\"\\':\",\" [\\\\\"\",\"Bob\",\"\\\\\",\",\" \\\\\"\",\"S\",\"ue\",\"\\\\\",\",\" \\\\\"\",\"John\",\"\\\\\",\",\" \\\\\"\",\"Jane\",\"\\\\\",\",\" \\\\\"\",\"J\",\"ill\",\"\\\\\"],\",\"\\\\n\",\"   \",\" \\'\",\"age\",\"\\':\",\" [\",\"20\",\",\",\" 21\",\",\",\" 22\",\",\",\" 23\",\",\",\" 24\",\"],\",\"\\\\n\",\"   \",\" \\'\",\"gender\",\"\\':\",\" [\\\\\"\",\"M\",\"\\\\\",\",\" \\\\\"\",\"F\",\"\\\\\",\",\" \\\\\"\",\"M\",\"\\\\\",\",\" \\\\\"\",\"F\",\"\\\\\",\",\" \\\\\"\",\"F\",\"\\\\\"]\",\"\\\\n\",\"}\",\"\\\\n\",\"\\\\n\",\"df\",\" =\",\" p\",\"d\",\".\",\"Data\",\"Frame\",\"(\",\"data\",\")\",\"\\\\n\",\"\\\\n\",\"df\",\".\",\"group\",\"by\",\"(\\'\",\"gender\",\"\\').\",\"mean\",\"()\",\"[\\'\",\"age\",\"\\'\",\"].\",\"plot\",\".\",\"bar\",\"()\",\"<|endoftext|>\",\" §§\",\" FILE\",\" READ\",\"ME\",\".\",\"md\",\"\\\\n\"],\"token_logprobs\":[-0.021148993,-0.0031841013,-0.22718039,-0.34058863,-1.1430258e-6,-0.0021252108,-0.00035824155,-0.000048949474,-0.113814466,-3.679575,-2.2083647,-0.055591237,-0.18450728,-1.3026551,-0.20748125,-0.061821464,-0.04751801,-0.061099846,-0.23440063,-0.05618466,-0.0003244323,-0.42359084,-0.0010012747,-0.0006744853,-0.009247871,-0.0010103439,-0.07972991,-0.0005948651,-0.44908667,-0.15081407,-0.0024508622,-0.000056102934,-0.009253285,-0.0023403887,-2.8187325,-3.1077175,-0.02039937,-0.0014680185,-2.1318378,-1.0683856,-0.0012618037,-0.00037493455,-1.6444726,-0.0019322382,-0.00026791144,-1.8890793,-0.0010071225,-0.0003108397,-4.2618303,-0.008918499,-0.0010152343,-0.034427628,-0.0005580644,-0.0017643785,-0.0034073433,-0.0042950544,-0.00747509,-1.1678863,-0.0006089402,-1.872024,-0.00023333247,-1.1359947,-0.00038328386,-0.7067302,-0.0006654207,-0.092046745,-0.0007692674,-0.016857624,-0.0005418436,-0.0019101406,-0.0013874401,-0.0017530931,-0.07452303,-0.1733551,-0.014477811,-0.00033665728,-0.0008085771,-0.0014514871,-0.00019833862,-0.004080416,-0.0017894565,-0.0001831916,-0.0009549785,-0.0014432485,-0.00039652258,-0.0017742289,-0.08968611,-0.014583039,-0.077447966,-0.01020304,-0.048681006,-0.030361496,-0.0021008404,-0.00054387294,-2.3360508e-6,-0.00016280691,-0.00016244836,-0.00019142075,-0.012925864,-0.00013764732,-0.048362155,-0.0042043705,-0.076662034,-0.4329942,-0.0065514445,-0.00781336,-6.031526e-6,-0.2697284,-0.00012477185,-1.1438421,-0.07080453,-0.2173295,-0.03337516,-9.130952e-6,-0.0038700097,-0.0000144972155,-0.00026397567,-0.9853943,-0.00029736536,-0.052654345,-0.024597524,-0.010293191,-0.00036539597,-1.519633,-0.0002014371,-0.00051304104,-0.00004489638,-0.0011268173],\"top_logprobs\":null,\"text_offset\":[88,89,90,96,101,103,106,108,109,110,111,115,117,119,120,123,125,127,129,131,132,133,135,136,138,139,141,142,144,146,147,150,152,156,158,161,164,166,168,169,171,173,175,179,181,183,187,189,191,192,195,198,199,202,204,207,209,211,213,214,217,218,221,222,225,226,229,231,232,235,237,243,245,248,249,251,253,254,256,258,259,261,263,264,266,268,269,271,272,273,274,275,277,279,281,282,283,287,292,293,297,298,299,300,302,303,308,310,312,318,321,325,327,329,332,333,335,339,340,343,345,345,345,345,345,345,345,345]},\"finish_reason\":\"stop\"}],\"usage\":{\"prompt_tokens\":19,\"completion_tokens\":120,\"total_tokens\":139}}\\n'"
      ]
     },
     "execution_count": 11,
     "metadata": {},
     "output_type": "execute_result"
    }
   ],
   "source": [
    "def make_gpt_request(text):\n",
    "    r = requests.post(\n",
    "        \"https://api.openai.com/v1/engines/text-davinci-003-playground/completions\",\n",
    "        data=json.dumps({\n",
    "            \"prompt\": text,\n",
    "            \"max_tokens\":256,\n",
    "            \"temperature\":0.7,\n",
    "            \"top_p\":1,\n",
    "            \"frequency_penalty\":0,\n",
    "            \"presence_penalty\":0,\n",
    "            \"best_of\":1,\n",
    "            \"echo\":False,\n",
    "            \"logprobs\":0,\n",
    "            \"stream\":False\n",
    "            }),\n",
    "        headers={\n",
    "            \"authorization\": \"Bearer {}\".format(openai_api_key),\n",
    "            \"content-type\": \"application/json\"\n",
    "        }\n",
    "    )\n",
    "    return r\n",
    "    \n",
    "r = make_gpt_request(\"considering a dataframe with columns id, name, age and gender plot average age by gender\")\n",
    "r.text"
   ]
  },
  {
   "cell_type": "code",
   "execution_count": 12,
   "metadata": {},
   "outputs": [
    {
     "data": {
      "text/plain": [
       "('\\n\\nimport pandas as pd\\n\\ndata = {\\n    \\'id\\': [1, 2, 3, 4, 5],\\n    \\'name\\': [\"Bob\", \"Sue\", \"John\", \"Jane\", \"Jill\"],\\n    \\'age\\': [20, 21, 22, 23, 24],\\n    \\'gender\\': [\"M\", \"F\", \"M\", \"F\", \"F\"]\\n}\\n\\ndf = pd.DataFrame(data)\\n\\ndf.groupby(\\'gender\\').mean()[\\'age\\'].plot.bar()',\n",
       " 'stop')"
      ]
     },
     "execution_count": 12,
     "metadata": {},
     "output_type": "execute_result"
    }
   ],
   "source": [
    "openai._parse_gpt_response(r)"
   ]
  },
  {
   "cell_type": "code",
   "execution_count": 14,
   "metadata": {},
   "outputs": [
    {
     "data": {
      "image/png": "[encoded data removed]",
      "text/plain": [
       "<Figure size 432x288 with 1 Axes>"
      ]
     },
     "metadata": {
      "needs_background": "light"
     },
     "output_type": "display_data"
    }
   ],
   "source": [
    "exec(openai._parse_gpt_response(r)[0])"
   ]
  },
  {
   "cell_type": "code",
   "execution_count": 3,
   "metadata": {},
   "outputs": [
    {
     "ename": "NameError",
     "evalue": "name 'make_gpt_request' is not defined",
     "output_type": "error",
     "traceback": [
      "\u001b[0;31m---------------------------------------------------------------------------\u001b[0m",
      "\u001b[0;31mNameError\u001b[0m                                 Traceback (most recent call last)",
      "\u001b[0;32m<ipython-input-3-18500baf3063>\u001b[0m in \u001b[0;36m<module>\u001b[0;34m\u001b[0m\n\u001b[0;32m----> 1\u001b[0;31m \u001b[0mchart_resp\u001b[0m \u001b[0;34m=\u001b[0m \u001b[0mmake_gpt_request\u001b[0m\u001b[0;34m(\u001b[0m\u001b[0;34m\"considering a dataframe with columns age and gender, plot the average age for each gender\"\u001b[0m\u001b[0;34m)\u001b[0m\u001b[0;34m\u001b[0m\u001b[0;34m\u001b[0m\u001b[0m\n\u001b[0m\u001b[1;32m      2\u001b[0m \u001b[0mresp\u001b[0m \u001b[0;34m=\u001b[0m \u001b[0mparse_gpt_response\u001b[0m\u001b[0;34m(\u001b[0m\u001b[0mchart_resp\u001b[0m\u001b[0;34m)\u001b[0m\u001b[0;34m\u001b[0m\u001b[0;34m\u001b[0m\u001b[0m\n\u001b[1;32m      3\u001b[0m \u001b[0mprint\u001b[0m\u001b[0;34m(\u001b[0m\u001b[0mresp\u001b[0m\u001b[0;34m)\u001b[0m\u001b[0;34m\u001b[0m\u001b[0;34m\u001b[0m\u001b[0m\n\u001b[1;32m      4\u001b[0m \u001b[0;34m\u001b[0m\u001b[0m\n\u001b[1;32m      5\u001b[0m \u001b[0;34m\u001b[0m\u001b[0m\n",
      "\u001b[0;31mNameError\u001b[0m: name 'make_gpt_request' is not defined"
     ]
    }
   ],
   "source": [
    "chart_resp = make_gpt_request(\"considering a dataframe with columns age and gender, plot the average age for each gender\")\n",
    "resp = parse_gpt_response(chart_resp)\n",
    "print(resp)\n",
    "\n",
    "\n"
   ]
  },
  {
   "cell_type": "code",
   "execution_count": null,
   "metadata": {},
   "outputs": [
    {
     "data": {
      "image/png": "[encoded data removed]",
      "text/plain": [
       "<Figure size 432x288 with 1 Axes>"
      ]
     },
     "metadata": {
      "needs_background": "light"
     },
     "output_type": "display_data"
    }
   ],
   "source": [
    "exec(resp[0])"
   ]
  },
  {
   "cell_type": "code",
   "execution_count": null,
   "metadata": {},
   "outputs": [
    {
     "name": "stdout",
     "output_type": "stream",
     "text": [
      "\n",
      "\n",
      "import pandas as pd\n",
      "import matplotlib.pyplot as plt\n",
      "\n",
      "df = pd.DataFrame({'Age': [30, 24, 25, 29, 28, 25, 31],\n",
      "                   'Gender': ['M', 'F', 'F', 'M', 'M', 'F', 'M']})\n",
      "\n",
      "grouped_df = df.groupby('Gender').mean()\n",
      "\n",
      "grouped_df.plot(kind='bar')\n",
      "plt.xlabel('Gender')\n",
      "plt.ylabel('Average Age')\n",
      "plt.title('Average Age by Gender')\n",
      "\n"
     ]
    },
    {
     "data": {
      "image/png": "[encoded data removed]",
      "text/plain": [
       "<Figure size 432x288 with 1 Axes>"
      ]
     },
     "metadata": {
      "needs_background": "light"
     },
     "output_type": "display_data"
    }
   ],
   "source": [
    "plt = None\n",
    "d = resp[0].replace(\"plt.show()\", \"\")\n",
    "print(d)\n",
    "exec(d, None, {\"plt\": plt})\n",
    "# p"
   ]
  },
  {
   "cell_type": "code",
   "execution_count": null,
   "metadata": {},
   "outputs": [],
   "source": []
  }
 ],
 "metadata": {
  "kernelspec": {
   "display_name": "Python 3",
   "language": "python",
   "name": "python3"
  },
  "language_info": {
   "codemirror_mode": {
    "name": "ipython",
    "version": 3
   },
   "file_extension": ".py",
   "mimetype": "text/x-python",
   "name": "python",
   "nbconvert_exporter": "python",
   "pygments_lexer": "ipython3",
   "version": "3.10.9 (main, Dec 15 2022, 18:25:35) [Clang 14.0.0 (clang-1400.0.29.202)]"
  },
  "orig_nbformat": 4,
  "vscode": {
   "interpreter": {
    "hash": "aee8b7b246df8f9039afb4144a1f6fd8d2ca17a180786b69acc140d282b71a49"
   }
  }
 },
 "nbformat": 4,
 "nbformat_minor": 2
}
